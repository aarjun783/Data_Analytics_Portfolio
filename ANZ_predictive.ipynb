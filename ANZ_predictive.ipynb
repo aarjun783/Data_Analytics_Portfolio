{
  "nbformat": 4,
  "nbformat_minor": 0,
  "metadata": {
    "colab": {
      "name": "ANZ_predictive.ipynb",
      "provenance": []
    },
    "kernelspec": {
      "name": "python3",
      "display_name": "Python 3"
    },
    "language_info": {
      "name": "python"
    }
  },
  "cells": [
    {
      "cell_type": "markdown",
      "metadata": {
        "id": "r87W2QRfObS-"
      },
      "source": [
        "# **Data @ ANZ - Predictive Analytics**\n",
        "This notebook contains code and visualisations required to decipher correlations between the dataset attributes, calculate the annual salaries of customers, and build regression and decision tree models for predicting the annual salary of a customer\n",
        "\n",
        "Note : The dataset contains geographical attributes(long_lat and merchant_long_lat) that had been split into latitudinal and longitudinal measures in Excel.\n",
        "\n",
        "Libraries Used - Pandas, Numpy, Sklearn, Seaborn, Matplotlib"
      ]
    },
    {
      "cell_type": "markdown",
      "metadata": {
        "id": "IMyOxFr4PAnp"
      },
      "source": [
        "# Importing the dataset"
      ]
    },
    {
      "cell_type": "code",
      "metadata": {
        "colab": {
          "base_uri": "https://localhost:8080/",
          "height": 479
        },
        "id": "P6_ca9FNbKln",
        "outputId": "bf996375-59a8-4222-db66-3570c4092098"
      },
      "source": [
        "import pandas as pd\n",
        "import numpy as np\n",
        "\n",
        "file = pd.read_excel(\"/content/drive/MyDrive/Colab Notebooks/data/ANZ synthesised transaction dataset_clean.xlsx\")\n",
        "\n",
        "file.head(5)"
      ],
      "execution_count": 1,
      "outputs": [
        {
          "output_type": "execute_result",
          "data": {
            "text/html": [
              "<div>\n",
              "<style scoped>\n",
              "    .dataframe tbody tr th:only-of-type {\n",
              "        vertical-align: middle;\n",
              "    }\n",
              "\n",
              "    .dataframe tbody tr th {\n",
              "        vertical-align: top;\n",
              "    }\n",
              "\n",
              "    .dataframe thead th {\n",
              "        text-align: right;\n",
              "    }\n",
              "</style>\n",
              "<table border=\"1\" class=\"dataframe\">\n",
              "  <thead>\n",
              "    <tr style=\"text-align: right;\">\n",
              "      <th></th>\n",
              "      <th>status</th>\n",
              "      <th>card_present_flag</th>\n",
              "      <th>bpay_biller_code</th>\n",
              "      <th>account</th>\n",
              "      <th>currency</th>\n",
              "      <th>longitude</th>\n",
              "      <th>latitude</th>\n",
              "      <th>txn_description</th>\n",
              "      <th>merchant_id</th>\n",
              "      <th>merchant_code</th>\n",
              "      <th>first_name</th>\n",
              "      <th>balance</th>\n",
              "      <th>date</th>\n",
              "      <th>gender</th>\n",
              "      <th>age</th>\n",
              "      <th>merchant_suburb</th>\n",
              "      <th>merchant_state</th>\n",
              "      <th>extraction</th>\n",
              "      <th>amount</th>\n",
              "      <th>transaction_id</th>\n",
              "      <th>country</th>\n",
              "      <th>customer_id</th>\n",
              "      <th>merchant_longitude</th>\n",
              "      <th>merchant_latitude</th>\n",
              "      <th>movement</th>\n",
              "    </tr>\n",
              "  </thead>\n",
              "  <tbody>\n",
              "    <tr>\n",
              "      <th>0</th>\n",
              "      <td>authorized</td>\n",
              "      <td>1.0</td>\n",
              "      <td>NaN</td>\n",
              "      <td>ACC-1598451071</td>\n",
              "      <td>AUD</td>\n",
              "      <td>153.41</td>\n",
              "      <td>-27.95</td>\n",
              "      <td>POS</td>\n",
              "      <td>81c48296-73be-44a7-befa-d053f48ce7cd</td>\n",
              "      <td>NaN</td>\n",
              "      <td>Diana</td>\n",
              "      <td>35.39</td>\n",
              "      <td>2018-08-01</td>\n",
              "      <td>F</td>\n",
              "      <td>26</td>\n",
              "      <td>Ashmore</td>\n",
              "      <td>QLD</td>\n",
              "      <td>2018-08-01 01:01:15</td>\n",
              "      <td>16.25</td>\n",
              "      <td>a623070bfead4541a6b0fff8a09e706c</td>\n",
              "      <td>Australia</td>\n",
              "      <td>CUS-2487424745</td>\n",
              "      <td>153.38</td>\n",
              "      <td>-27.99</td>\n",
              "      <td>debit</td>\n",
              "    </tr>\n",
              "    <tr>\n",
              "      <th>1</th>\n",
              "      <td>authorized</td>\n",
              "      <td>0.0</td>\n",
              "      <td>NaN</td>\n",
              "      <td>ACC-1598451071</td>\n",
              "      <td>AUD</td>\n",
              "      <td>153.41</td>\n",
              "      <td>-27.95</td>\n",
              "      <td>SALES-POS</td>\n",
              "      <td>830a451c-316e-4a6a-bf25-e37caedca49e</td>\n",
              "      <td>NaN</td>\n",
              "      <td>Diana</td>\n",
              "      <td>21.20</td>\n",
              "      <td>2018-08-01</td>\n",
              "      <td>F</td>\n",
              "      <td>26</td>\n",
              "      <td>Sydney</td>\n",
              "      <td>NSW</td>\n",
              "      <td>2018-08-01 01:13:45</td>\n",
              "      <td>14.19</td>\n",
              "      <td>13270a2a902145da9db4c951e04b51b9</td>\n",
              "      <td>Australia</td>\n",
              "      <td>CUS-2487424745</td>\n",
              "      <td>151.21</td>\n",
              "      <td>-33.87</td>\n",
              "      <td>debit</td>\n",
              "    </tr>\n",
              "    <tr>\n",
              "      <th>2</th>\n",
              "      <td>authorized</td>\n",
              "      <td>1.0</td>\n",
              "      <td>NaN</td>\n",
              "      <td>ACC-1222300524</td>\n",
              "      <td>AUD</td>\n",
              "      <td>151.23</td>\n",
              "      <td>-33.94</td>\n",
              "      <td>POS</td>\n",
              "      <td>835c231d-8cdf-4e96-859d-e9d571760cf0</td>\n",
              "      <td>NaN</td>\n",
              "      <td>Michael</td>\n",
              "      <td>5.71</td>\n",
              "      <td>2018-08-01</td>\n",
              "      <td>M</td>\n",
              "      <td>38</td>\n",
              "      <td>Sydney</td>\n",
              "      <td>NSW</td>\n",
              "      <td>2018-08-01 01:26:15</td>\n",
              "      <td>6.42</td>\n",
              "      <td>feb79e7ecd7048a5a36ec889d1a94270</td>\n",
              "      <td>Australia</td>\n",
              "      <td>CUS-2142601169</td>\n",
              "      <td>151.21</td>\n",
              "      <td>-33.87</td>\n",
              "      <td>debit</td>\n",
              "    </tr>\n",
              "    <tr>\n",
              "      <th>3</th>\n",
              "      <td>authorized</td>\n",
              "      <td>1.0</td>\n",
              "      <td>NaN</td>\n",
              "      <td>ACC-1037050564</td>\n",
              "      <td>AUD</td>\n",
              "      <td>153.10</td>\n",
              "      <td>-27.66</td>\n",
              "      <td>SALES-POS</td>\n",
              "      <td>48514682-c78a-4a88-b0da-2d6302e64673</td>\n",
              "      <td>NaN</td>\n",
              "      <td>Rhonda</td>\n",
              "      <td>2117.22</td>\n",
              "      <td>2018-08-01</td>\n",
              "      <td>F</td>\n",
              "      <td>40</td>\n",
              "      <td>Buderim</td>\n",
              "      <td>QLD</td>\n",
              "      <td>2018-08-01 01:38:45</td>\n",
              "      <td>40.90</td>\n",
              "      <td>2698170da3704fd981b15e64a006079e</td>\n",
              "      <td>Australia</td>\n",
              "      <td>CUS-1614226872</td>\n",
              "      <td>153.05</td>\n",
              "      <td>-26.68</td>\n",
              "      <td>debit</td>\n",
              "    </tr>\n",
              "    <tr>\n",
              "      <th>4</th>\n",
              "      <td>authorized</td>\n",
              "      <td>1.0</td>\n",
              "      <td>NaN</td>\n",
              "      <td>ACC-1598451071</td>\n",
              "      <td>AUD</td>\n",
              "      <td>153.41</td>\n",
              "      <td>-27.95</td>\n",
              "      <td>SALES-POS</td>\n",
              "      <td>b4e02c10-0852-4273-b8fd-7b3395e32eb0</td>\n",
              "      <td>NaN</td>\n",
              "      <td>Diana</td>\n",
              "      <td>17.95</td>\n",
              "      <td>2018-08-01</td>\n",
              "      <td>F</td>\n",
              "      <td>26</td>\n",
              "      <td>Mermaid Beach</td>\n",
              "      <td>QLD</td>\n",
              "      <td>2018-08-01 01:51:15</td>\n",
              "      <td>3.25</td>\n",
              "      <td>329adf79878c4cf0aeb4188b4691c266</td>\n",
              "      <td>Australia</td>\n",
              "      <td>CUS-2487424745</td>\n",
              "      <td>153.44</td>\n",
              "      <td>-28.06</td>\n",
              "      <td>debit</td>\n",
              "    </tr>\n",
              "  </tbody>\n",
              "</table>\n",
              "</div>"
            ],
            "text/plain": [
              "       status  card_present_flag  ... merchant_latitude movement\n",
              "0  authorized                1.0  ...            -27.99    debit\n",
              "1  authorized                0.0  ...            -33.87    debit\n",
              "2  authorized                1.0  ...            -33.87    debit\n",
              "3  authorized                1.0  ...            -26.68    debit\n",
              "4  authorized                1.0  ...            -28.06    debit\n",
              "\n",
              "[5 rows x 25 columns]"
            ]
          },
          "metadata": {
            "tags": []
          },
          "execution_count": 1
        }
      ]
    },
    {
      "cell_type": "markdown",
      "metadata": {
        "id": "0ETnUkD_oRKs"
      },
      "source": [
        "# Data Pre-Processing"
      ]
    },
    {
      "cell_type": "markdown",
      "metadata": {
        "id": "Qcd7YkBWJ1oJ"
      },
      "source": [
        "**Filtering irrelevant attributes and rows out of the subset of the dataset to analyse the salaries**"
      ]
    },
    {
      "cell_type": "code",
      "metadata": {
        "colab": {
          "base_uri": "https://localhost:8080/",
          "height": 204
        },
        "id": "rSk5MM8yoO1_",
        "outputId": "dbe953d0-0b77-4c82-e2da-33af58b2fd87"
      },
      "source": [
        "file = file[file['txn_description']==\"PAY/SALARY\"]\n",
        "\n",
        "del file['currency']\n",
        "del file['country']\n",
        "del file['merchant_latitude']\n",
        "del file['merchant_longitude']\n",
        "del file['merchant_id']\n",
        "del file['merchant_code']\n",
        "del file['transaction_id']\n",
        "del file['merchant_state']\n",
        "del file['merchant_suburb']\n",
        "del file['card_present_flag']\n",
        "\n",
        "file = file.drop(['txn_description','status','movement'],axis=1)\n",
        "file.head()"
      ],
      "execution_count": 2,
      "outputs": [
        {
          "output_type": "execute_result",
          "data": {
            "text/html": [
              "<div>\n",
              "<style scoped>\n",
              "    .dataframe tbody tr th:only-of-type {\n",
              "        vertical-align: middle;\n",
              "    }\n",
              "\n",
              "    .dataframe tbody tr th {\n",
              "        vertical-align: top;\n",
              "    }\n",
              "\n",
              "    .dataframe thead th {\n",
              "        text-align: right;\n",
              "    }\n",
              "</style>\n",
              "<table border=\"1\" class=\"dataframe\">\n",
              "  <thead>\n",
              "    <tr style=\"text-align: right;\">\n",
              "      <th></th>\n",
              "      <th>bpay_biller_code</th>\n",
              "      <th>account</th>\n",
              "      <th>longitude</th>\n",
              "      <th>latitude</th>\n",
              "      <th>first_name</th>\n",
              "      <th>balance</th>\n",
              "      <th>date</th>\n",
              "      <th>gender</th>\n",
              "      <th>age</th>\n",
              "      <th>extraction</th>\n",
              "      <th>amount</th>\n",
              "      <th>customer_id</th>\n",
              "    </tr>\n",
              "  </thead>\n",
              "  <tbody>\n",
              "    <tr>\n",
              "      <th>50</th>\n",
              "      <td>0</td>\n",
              "      <td>ACC-588564840</td>\n",
              "      <td>151.27</td>\n",
              "      <td>-33.76</td>\n",
              "      <td>Isaiah</td>\n",
              "      <td>8342.11</td>\n",
              "      <td>2018-08-01</td>\n",
              "      <td>M</td>\n",
              "      <td>23</td>\n",
              "      <td>2018-08-01 11:00:00</td>\n",
              "      <td>3903.95</td>\n",
              "      <td>CUS-1462656821</td>\n",
              "    </tr>\n",
              "    <tr>\n",
              "      <th>61</th>\n",
              "      <td>0</td>\n",
              "      <td>ACC-1650504218</td>\n",
              "      <td>145.01</td>\n",
              "      <td>-37.93</td>\n",
              "      <td>Marissa</td>\n",
              "      <td>2040.58</td>\n",
              "      <td>2018-08-01</td>\n",
              "      <td>F</td>\n",
              "      <td>23</td>\n",
              "      <td>2018-08-01 12:00:00</td>\n",
              "      <td>1626.48</td>\n",
              "      <td>CUS-2500783281</td>\n",
              "    </tr>\n",
              "    <tr>\n",
              "      <th>64</th>\n",
              "      <td>0</td>\n",
              "      <td>ACC-3326339947</td>\n",
              "      <td>151.18</td>\n",
              "      <td>-33.80</td>\n",
              "      <td>Eric</td>\n",
              "      <td>3158.51</td>\n",
              "      <td>2018-08-01</td>\n",
              "      <td>M</td>\n",
              "      <td>22</td>\n",
              "      <td>2018-08-01 12:00:00</td>\n",
              "      <td>983.36</td>\n",
              "      <td>CUS-326006476</td>\n",
              "    </tr>\n",
              "    <tr>\n",
              "      <th>68</th>\n",
              "      <td>0</td>\n",
              "      <td>ACC-3541460373</td>\n",
              "      <td>145.00</td>\n",
              "      <td>-37.83</td>\n",
              "      <td>Jeffrey</td>\n",
              "      <td>2517.66</td>\n",
              "      <td>2018-08-01</td>\n",
              "      <td>M</td>\n",
              "      <td>24</td>\n",
              "      <td>2018-08-01 13:00:00</td>\n",
              "      <td>1408.08</td>\n",
              "      <td>CUS-1433879684</td>\n",
              "    </tr>\n",
              "    <tr>\n",
              "      <th>70</th>\n",
              "      <td>0</td>\n",
              "      <td>ACC-2776252858</td>\n",
              "      <td>144.95</td>\n",
              "      <td>-37.76</td>\n",
              "      <td>Kristin</td>\n",
              "      <td>2271.79</td>\n",
              "      <td>2018-08-01</td>\n",
              "      <td>F</td>\n",
              "      <td>43</td>\n",
              "      <td>2018-08-01 13:00:00</td>\n",
              "      <td>1068.04</td>\n",
              "      <td>CUS-4123612273</td>\n",
              "    </tr>\n",
              "  </tbody>\n",
              "</table>\n",
              "</div>"
            ],
            "text/plain": [
              "   bpay_biller_code         account  ...   amount     customer_id\n",
              "50                0   ACC-588564840  ...  3903.95  CUS-1462656821\n",
              "61                0  ACC-1650504218  ...  1626.48  CUS-2500783281\n",
              "64                0  ACC-3326339947  ...   983.36   CUS-326006476\n",
              "68                0  ACC-3541460373  ...  1408.08  CUS-1433879684\n",
              "70                0  ACC-2776252858  ...  1068.04  CUS-4123612273\n",
              "\n",
              "[5 rows x 12 columns]"
            ]
          },
          "metadata": {
            "tags": []
          },
          "execution_count": 2
        }
      ]
    },
    {
      "cell_type": "markdown",
      "metadata": {
        "id": "c73FtvbdKJkY"
      },
      "source": [
        "**Insertion of the count, average balance, and annual salary columns into the dataset**"
      ]
    },
    {
      "cell_type": "code",
      "metadata": {
        "id": "Z6X9Zxzv3ph3"
      },
      "source": [
        "file['count'] = file.groupby(['first_name'])['amount'].transform('count')\n",
        "file['avg_balance'] = file.groupby(['customer_id'])['balance'].transform(np.mean)\n",
        "file['annual_salary'] = file['amount']*12"
      ],
      "execution_count": 3,
      "outputs": []
    },
    {
      "cell_type": "markdown",
      "metadata": {
        "id": "2S0N1p1rKQXP"
      },
      "source": [
        "**Transformation of discrete columns into ordinal integers using the OrdinalEncoder wrapper**"
      ]
    },
    {
      "cell_type": "code",
      "metadata": {
        "id": "aIGKsO_LtAR5"
      },
      "source": [
        "from sklearn.preprocessing import OrdinalEncoder\n",
        "ord = OrdinalEncoder()\n",
        "file[file.columns[0:1]] = ord.fit_transform(file[file.columns[0:1]])\n",
        "file[file.columns[4:5]] = ord.fit_transform(file[file.columns[4:5]])\n",
        "file[file.columns[7:8]] = ord.fit_transform(file[file.columns[7:8]])"
      ],
      "execution_count": 4,
      "outputs": []
    },
    {
      "cell_type": "markdown",
      "metadata": {
        "id": "nfR_DaMCgxKA"
      },
      "source": [
        "**Conversion of the Extraction attribute (datetime) to seconds**"
      ]
    },
    {
      "cell_type": "code",
      "metadata": {
        "colab": {
          "base_uri": "https://localhost:8080/",
          "height": 204
        },
        "id": "lfezs3DyfVpY",
        "outputId": "fcce6a89-ff6b-4c01-a5b7-56961c609389"
      },
      "source": [
        "file['extraction'] = file['extraction'].astype('int64')\n",
        "file['extraction'] = file['extraction']/10**9\n",
        "file['extraction'] = file['extraction'].astype('int64')\n",
        "file.head()"
      ],
      "execution_count": 5,
      "outputs": [
        {
          "output_type": "execute_result",
          "data": {
            "text/html": [
              "<div>\n",
              "<style scoped>\n",
              "    .dataframe tbody tr th:only-of-type {\n",
              "        vertical-align: middle;\n",
              "    }\n",
              "\n",
              "    .dataframe tbody tr th {\n",
              "        vertical-align: top;\n",
              "    }\n",
              "\n",
              "    .dataframe thead th {\n",
              "        text-align: right;\n",
              "    }\n",
              "</style>\n",
              "<table border=\"1\" class=\"dataframe\">\n",
              "  <thead>\n",
              "    <tr style=\"text-align: right;\">\n",
              "      <th></th>\n",
              "      <th>bpay_biller_code</th>\n",
              "      <th>account</th>\n",
              "      <th>longitude</th>\n",
              "      <th>latitude</th>\n",
              "      <th>first_name</th>\n",
              "      <th>balance</th>\n",
              "      <th>date</th>\n",
              "      <th>gender</th>\n",
              "      <th>age</th>\n",
              "      <th>extraction</th>\n",
              "      <th>amount</th>\n",
              "      <th>customer_id</th>\n",
              "      <th>count</th>\n",
              "      <th>avg_balance</th>\n",
              "      <th>annual_salary</th>\n",
              "    </tr>\n",
              "  </thead>\n",
              "  <tbody>\n",
              "    <tr>\n",
              "      <th>50</th>\n",
              "      <td>0.0</td>\n",
              "      <td>ACC-588564840</td>\n",
              "      <td>151.27</td>\n",
              "      <td>-33.76</td>\n",
              "      <td>30.0</td>\n",
              "      <td>8342.11</td>\n",
              "      <td>2018-08-01</td>\n",
              "      <td>1.0</td>\n",
              "      <td>23</td>\n",
              "      <td>1533121200</td>\n",
              "      <td>3903.95</td>\n",
              "      <td>CUS-1462656821</td>\n",
              "      <td>7</td>\n",
              "      <td>15887.912857</td>\n",
              "      <td>46847.40</td>\n",
              "    </tr>\n",
              "    <tr>\n",
              "      <th>61</th>\n",
              "      <td>0.0</td>\n",
              "      <td>ACC-1650504218</td>\n",
              "      <td>145.01</td>\n",
              "      <td>-37.93</td>\n",
              "      <td>48.0</td>\n",
              "      <td>2040.58</td>\n",
              "      <td>2018-08-01</td>\n",
              "      <td>0.0</td>\n",
              "      <td>23</td>\n",
              "      <td>1533124800</td>\n",
              "      <td>1626.48</td>\n",
              "      <td>CUS-2500783281</td>\n",
              "      <td>14</td>\n",
              "      <td>10741.092857</td>\n",
              "      <td>19517.76</td>\n",
              "    </tr>\n",
              "    <tr>\n",
              "      <th>64</th>\n",
              "      <td>0.0</td>\n",
              "      <td>ACC-3326339947</td>\n",
              "      <td>151.18</td>\n",
              "      <td>-33.80</td>\n",
              "      <td>26.0</td>\n",
              "      <td>3158.51</td>\n",
              "      <td>2018-08-01</td>\n",
              "      <td>1.0</td>\n",
              "      <td>22</td>\n",
              "      <td>1533124800</td>\n",
              "      <td>983.36</td>\n",
              "      <td>CUS-326006476</td>\n",
              "      <td>21</td>\n",
              "      <td>8317.030714</td>\n",
              "      <td>11800.32</td>\n",
              "    </tr>\n",
              "    <tr>\n",
              "      <th>68</th>\n",
              "      <td>0.0</td>\n",
              "      <td>ACC-3541460373</td>\n",
              "      <td>145.00</td>\n",
              "      <td>-37.83</td>\n",
              "      <td>33.0</td>\n",
              "      <td>2517.66</td>\n",
              "      <td>2018-08-01</td>\n",
              "      <td>1.0</td>\n",
              "      <td>24</td>\n",
              "      <td>1533128400</td>\n",
              "      <td>1408.08</td>\n",
              "      <td>CUS-1433879684</td>\n",
              "      <td>13</td>\n",
              "      <td>3877.381429</td>\n",
              "      <td>16896.96</td>\n",
              "    </tr>\n",
              "    <tr>\n",
              "      <th>70</th>\n",
              "      <td>0.0</td>\n",
              "      <td>ACC-2776252858</td>\n",
              "      <td>144.95</td>\n",
              "      <td>-37.76</td>\n",
              "      <td>41.0</td>\n",
              "      <td>2271.79</td>\n",
              "      <td>2018-08-01</td>\n",
              "      <td>0.0</td>\n",
              "      <td>43</td>\n",
              "      <td>1533128400</td>\n",
              "      <td>1068.04</td>\n",
              "      <td>CUS-4123612273</td>\n",
              "      <td>14</td>\n",
              "      <td>5210.705000</td>\n",
              "      <td>12816.48</td>\n",
              "    </tr>\n",
              "  </tbody>\n",
              "</table>\n",
              "</div>"
            ],
            "text/plain": [
              "    bpay_biller_code         account  ...   avg_balance  annual_salary\n",
              "50               0.0   ACC-588564840  ...  15887.912857       46847.40\n",
              "61               0.0  ACC-1650504218  ...  10741.092857       19517.76\n",
              "64               0.0  ACC-3326339947  ...   8317.030714       11800.32\n",
              "68               0.0  ACC-3541460373  ...   3877.381429       16896.96\n",
              "70               0.0  ACC-2776252858  ...   5210.705000       12816.48\n",
              "\n",
              "[5 rows x 15 columns]"
            ]
          },
          "metadata": {
            "tags": []
          },
          "execution_count": 5
        }
      ]
    },
    {
      "cell_type": "markdown",
      "metadata": {
        "id": "-4a2VN0R04Ty"
      },
      "source": [
        "# Exploratory Data Analysis"
      ]
    },
    {
      "cell_type": "markdown",
      "metadata": {
        "id": "_YLiPMH-09wH"
      },
      "source": [
        "**Correlation Matrix**"
      ]
    },
    {
      "cell_type": "code",
      "metadata": {
        "colab": {
          "base_uri": "https://localhost:8080/",
          "height": 577
        },
        "id": "LuIfaomKeHIA",
        "outputId": "e33e6a85-bd5f-40d1-e3dd-f9f2efd32517"
      },
      "source": [
        "import seaborn as sb\n",
        "import numpy as np\n",
        "import matplotlib.pyplot as plt\n",
        "corr = file.corr()\n",
        "\n",
        "fig,ax = plt.subplots(figsize=(10,8))\n",
        "mask = np.zeros_like(corr)\n",
        "mask[np.triu_indices_from(mask)] = True\n",
        "\n",
        "sb.heatmap(corr,mask=mask,annot = True)"
      ],
      "execution_count": 6,
      "outputs": [
        {
          "output_type": "execute_result",
          "data": {
            "text/plain": [
              "<matplotlib.axes._subplots.AxesSubplot at 0x7faa5c5d1e50>"
            ]
          },
          "metadata": {
            "tags": []
          },
          "execution_count": 6
        },
        {
          "output_type": "display_data",
          "data": {
            "image/png": "[encoded data removed]",
            "text/plain": [
              "<Figure size 720x576 with 2 Axes>"
            ]
          },
          "metadata": {
            "tags": [],
            "needs_background": "light"
          }
        }
      ]
    },
    {
      "cell_type": "markdown",
      "metadata": {
        "id": "SzFG3JxEK4Rg"
      },
      "source": [
        "**Scatterplots of high scoring features**"
      ]
    },
    {
      "cell_type": "code",
      "metadata": {
        "colab": {
          "base_uri": "https://localhost:8080/",
          "height": 421
        },
        "id": "OYFBAvRdLAA4",
        "outputId": "a4491810-90f2-48c0-d84f-bd396f3bd40e"
      },
      "source": [
        "fig,ax = plt.subplots(figsize=(8,6))\n",
        "sb.scatterplot(data=file,x=file['age'],y=file['annual_salary'],hue=file['gender'])\n",
        "plt.title(\"Annual Salary by Age\")\n",
        "plt.legend(['Male','Female'])"
      ],
      "execution_count": 7,
      "outputs": [
        {
          "output_type": "execute_result",
          "data": {
            "text/plain": [
              "<matplotlib.legend.Legend at 0x7faa6ca09990>"
            ]
          },
          "metadata": {
            "tags": []
          },
          "execution_count": 7
        },
        {
          "output_type": "display_data",
          "data": {
            "image/png": "[encoded data removed]",
            "text/plain": [
              "<Figure size 576x432 with 1 Axes>"
            ]
          },
          "metadata": {
            "tags": [],
            "needs_background": "light"
          }
        }
      ]
    },
    {
      "cell_type": "code",
      "metadata": {
        "colab": {
          "base_uri": "https://localhost:8080/",
          "height": 422
        },
        "id": "moqVARjrbOma",
        "outputId": "7e54e5f9-7d0b-46e4-8a55-e83e3d18d0ba"
      },
      "source": [
        "fig,ax = plt.subplots(figsize=(8,6))\n",
        "sb.scatterplot(data=file,x=file['avg_balance'],y=file['annual_salary'],hue=file['gender'])\n",
        "plt.title(\"Annual Salary by Average Balance\")\n",
        "plt.legend(['Male','Female'])"
      ],
      "execution_count": 8,
      "outputs": [
        {
          "output_type": "execute_result",
          "data": {
            "text/plain": [
              "<matplotlib.legend.Legend at 0x7faa6c781a90>"
            ]
          },
          "metadata": {
            "tags": []
          },
          "execution_count": 8
        },
        {
          "output_type": "display_data",
          "data": {
            "image/png": "[encoded data removed]",
            "text/plain": [
              "<Figure size 576x432 with 1 Axes>"
            ]
          },
          "metadata": {
            "tags": [],
            "needs_background": "light"
          }
        }
      ]
    },
    {
      "cell_type": "code",
      "metadata": {
        "colab": {
          "base_uri": "https://localhost:8080/",
          "height": 421
        },
        "id": "72OBCJSydSgL",
        "outputId": "8c4c0647-92bc-4fa1-d448-5698c8770827"
      },
      "source": [
        "fig,ax = plt.subplots(figsize=(8,6))\n",
        "sb.scatterplot(data=file,x=file['age'],y=file['avg_balance'],hue=file['gender'])\n",
        "plt.title(\"Age by Average Balance\")\n",
        "plt.legend(['Male','Female'])"
      ],
      "execution_count": 9,
      "outputs": [
        {
          "output_type": "execute_result",
          "data": {
            "text/plain": [
              "<matplotlib.legend.Legend at 0x7faa6c6c5990>"
            ]
          },
          "metadata": {
            "tags": []
          },
          "execution_count": 9
        },
        {
          "output_type": "display_data",
          "data": {
            "image/png": "[encoded data removed]",
            "text/plain": [
              "<Figure size 576x432 with 1 Axes>"
            ]
          },
          "metadata": {
            "tags": [],
            "needs_background": "light"
          }
        }
      ]
    },
    {
      "cell_type": "markdown",
      "metadata": {
        "id": "DLQMpl9NhnP_"
      },
      "source": [
        "# Regression Models"
      ]
    },
    {
      "cell_type": "markdown",
      "metadata": {
        "id": "jGWAEjl_hsc4"
      },
      "source": [
        "**Removing customer id, transaction dates and account numbers**"
      ]
    },
    {
      "cell_type": "code",
      "metadata": {
        "id": "uaKiK1Owe41i"
      },
      "source": [
        "file = file.drop(['customer_id','account','date','bpay_biller_code'],axis=1)"
      ],
      "execution_count": 10,
      "outputs": []
    },
    {
      "cell_type": "markdown",
      "metadata": {
        "id": "o7ysdpNJb7eV"
      },
      "source": [
        "**Final Dataset**"
      ]
    },
    {
      "cell_type": "code",
      "metadata": {
        "colab": {
          "base_uri": "https://localhost:8080/",
          "height": 204
        },
        "id": "WHRrjvv_ksAf",
        "outputId": "4e04b71e-cff7-4f00-d1b7-4101995408d7"
      },
      "source": [
        "file.head()"
      ],
      "execution_count": 11,
      "outputs": [
        {
          "output_type": "execute_result",
          "data": {
            "text/html": [
              "<div>\n",
              "<style scoped>\n",
              "    .dataframe tbody tr th:only-of-type {\n",
              "        vertical-align: middle;\n",
              "    }\n",
              "\n",
              "    .dataframe tbody tr th {\n",
              "        vertical-align: top;\n",
              "    }\n",
              "\n",
              "    .dataframe thead th {\n",
              "        text-align: right;\n",
              "    }\n",
              "</style>\n",
              "<table border=\"1\" class=\"dataframe\">\n",
              "  <thead>\n",
              "    <tr style=\"text-align: right;\">\n",
              "      <th></th>\n",
              "      <th>longitude</th>\n",
              "      <th>latitude</th>\n",
              "      <th>first_name</th>\n",
              "      <th>balance</th>\n",
              "      <th>gender</th>\n",
              "      <th>age</th>\n",
              "      <th>extraction</th>\n",
              "      <th>amount</th>\n",
              "      <th>count</th>\n",
              "      <th>avg_balance</th>\n",
              "      <th>annual_salary</th>\n",
              "    </tr>\n",
              "  </thead>\n",
              "  <tbody>\n",
              "    <tr>\n",
              "      <th>50</th>\n",
              "      <td>151.27</td>\n",
              "      <td>-33.76</td>\n",
              "      <td>30.0</td>\n",
              "      <td>8342.11</td>\n",
              "      <td>1.0</td>\n",
              "      <td>23</td>\n",
              "      <td>1533121200</td>\n",
              "      <td>3903.95</td>\n",
              "      <td>7</td>\n",
              "      <td>15887.912857</td>\n",
              "      <td>46847.40</td>\n",
              "    </tr>\n",
              "    <tr>\n",
              "      <th>61</th>\n",
              "      <td>145.01</td>\n",
              "      <td>-37.93</td>\n",
              "      <td>48.0</td>\n",
              "      <td>2040.58</td>\n",
              "      <td>0.0</td>\n",
              "      <td>23</td>\n",
              "      <td>1533124800</td>\n",
              "      <td>1626.48</td>\n",
              "      <td>14</td>\n",
              "      <td>10741.092857</td>\n",
              "      <td>19517.76</td>\n",
              "    </tr>\n",
              "    <tr>\n",
              "      <th>64</th>\n",
              "      <td>151.18</td>\n",
              "      <td>-33.80</td>\n",
              "      <td>26.0</td>\n",
              "      <td>3158.51</td>\n",
              "      <td>1.0</td>\n",
              "      <td>22</td>\n",
              "      <td>1533124800</td>\n",
              "      <td>983.36</td>\n",
              "      <td>21</td>\n",
              "      <td>8317.030714</td>\n",
              "      <td>11800.32</td>\n",
              "    </tr>\n",
              "    <tr>\n",
              "      <th>68</th>\n",
              "      <td>145.00</td>\n",
              "      <td>-37.83</td>\n",
              "      <td>33.0</td>\n",
              "      <td>2517.66</td>\n",
              "      <td>1.0</td>\n",
              "      <td>24</td>\n",
              "      <td>1533128400</td>\n",
              "      <td>1408.08</td>\n",
              "      <td>13</td>\n",
              "      <td>3877.381429</td>\n",
              "      <td>16896.96</td>\n",
              "    </tr>\n",
              "    <tr>\n",
              "      <th>70</th>\n",
              "      <td>144.95</td>\n",
              "      <td>-37.76</td>\n",
              "      <td>41.0</td>\n",
              "      <td>2271.79</td>\n",
              "      <td>0.0</td>\n",
              "      <td>43</td>\n",
              "      <td>1533128400</td>\n",
              "      <td>1068.04</td>\n",
              "      <td>14</td>\n",
              "      <td>5210.705000</td>\n",
              "      <td>12816.48</td>\n",
              "    </tr>\n",
              "  </tbody>\n",
              "</table>\n",
              "</div>"
            ],
            "text/plain": [
              "    longitude  latitude  first_name  ...  count   avg_balance  annual_salary\n",
              "50     151.27    -33.76        30.0  ...      7  15887.912857       46847.40\n",
              "61     145.01    -37.93        48.0  ...     14  10741.092857       19517.76\n",
              "64     151.18    -33.80        26.0  ...     21   8317.030714       11800.32\n",
              "68     145.00    -37.83        33.0  ...     13   3877.381429       16896.96\n",
              "70     144.95    -37.76        41.0  ...     14   5210.705000       12816.48\n",
              "\n",
              "[5 rows x 11 columns]"
            ]
          },
          "metadata": {
            "tags": []
          },
          "execution_count": 11
        }
      ]
    },
    {
      "cell_type": "markdown",
      "metadata": {
        "id": "MD2wouLWi5pf"
      },
      "source": [
        "**Splitting the dataset into inputs and outputs, with the annual salary attribute as the output variable. The datasets are also converted into Numpy Arrays**"
      ]
    },
    {
      "cell_type": "code",
      "metadata": {
        "id": "3f9QzXZ0i4un"
      },
      "source": [
        "input_set = file.iloc[:,0:10]\n",
        "output_set = file[['annual_salary']]"
      ],
      "execution_count": 18,
      "outputs": []
    },
    {
      "cell_type": "markdown",
      "metadata": {
        "id": "cQZ6NmNaRhKY"
      },
      "source": [
        "**Linear Regression Model**"
      ]
    },
    {
      "cell_type": "code",
      "metadata": {
        "colab": {
          "base_uri": "https://localhost:8080/"
        },
        "id": "G50yqqInoKK_",
        "outputId": "12fe7e5a-c4f4-4558-fa50-bf90a4cfe3fc"
      },
      "source": [
        "from sklearn.model_selection import train_test_split,cross_validate\n",
        "from sklearn.linear_model import LinearRegression\n",
        "from sklearn.metrics import mean_squared_error\n",
        "X_train,X_test,Y_train,Y_test = train_test_split(input_set,output_set,train_size = 0.8, random_state=23)\n",
        "\n",
        "reg = LinearRegression().fit(X_train,Y_train)\n",
        "\n",
        "pred = reg.predict(X_test)\n",
        "\n",
        "scores = cross_validate(reg,Y_test,pred,scoring = ['r2'],cv=3)\n",
        "\n",
        "\n",
        "print(scores['test_r2'])\n",
        "print(round(mean_squared_error(Y_test,pred),ndigits=3))"
      ],
      "execution_count": 77,
      "outputs": [
        {
          "output_type": "stream",
          "text": [
            "[1. 1. 1.]\n",
            "0.0\n"
          ],
          "name": "stdout"
        }
      ]
    },
    {
      "cell_type": "markdown",
      "metadata": {
        "id": "kbt6mHz3RmRp"
      },
      "source": [
        "**Regression Plot of Actual Salaries against Predicted Salaries**"
      ]
    },
    {
      "cell_type": "code",
      "metadata": {
        "colab": {
          "base_uri": "https://localhost:8080/",
          "height": 421
        },
        "id": "GrdmHyzH8h1w",
        "outputId": "e19c6ae5-50d4-491f-ab06-135631b8b47a"
      },
      "source": [
        "fig,ax = plt.subplots(figsize=(8,6))\n",
        "plt.scatter(Y_test,pred,color='blue')\n",
        "plt.plot([Y_test.min(),Y_test.max()],[Y_test.min(),Y_test.max()],'--r')\n",
        "plt.xlabel('Actual Salaries')\n",
        "plt.ylabel('Predicted Salaries')\n",
        "plt.title('Actual Salaries vs Predicted Salaries')"
      ],
      "execution_count": 78,
      "outputs": [
        {
          "output_type": "execute_result",
          "data": {
            "text/plain": [
              "Text(0.5, 1.0, 'Actual Salaries vs Predicted Salaries')"
            ]
          },
          "metadata": {
            "tags": []
          },
          "execution_count": 78
        },
        {
          "output_type": "display_data",
          "data": {
            "image/png": "[encoded data removed]",
            "text/plain": [
              "<Figure size 576x432 with 1 Axes>"
            ]
          },
          "metadata": {
            "tags": [],
            "needs_background": "light"
          }
        }
      ]
    },
    {
      "cell_type": "markdown",
      "metadata": {
        "id": "Ms1OC0dYOhsK"
      },
      "source": [
        "**From the visualisations and error values, we can make the following observations on the Linear Regression model**\n",
        "1.   The coefficient of determination of the test data is 1.0, which indicates the linear regression model predicts perfect predictions of the annual salaries of ANZ's customers\n",
        "2.   The mean square error values of the model, given the number of splits as 3, near zero, suggesting a perfect fit between the actual values and the predicted values.\n",
        "\n"
      ]
    },
    {
      "cell_type": "markdown",
      "metadata": {
        "id": "5mF-4ViMRrrG"
      },
      "source": [
        "**Decision Tree Regression Model**"
      ]
    },
    {
      "cell_type": "code",
      "metadata": {
        "colab": {
          "base_uri": "https://localhost:8080/"
        },
        "id": "i4a5CtaBQzkY",
        "outputId": "721cf46e-82de-438f-fcf0-1b5da0bedece"
      },
      "source": [
        "from sklearn.tree import DecisionTreeRegressor\n",
        "from sklearn.metrics import mean_squared_error\n",
        "tree_X_train,tree_X_test,tree_Y_train,tree_Y_test = train_test_split(input_set,output_set,train_size = 0.8, random_state=23)\n",
        "\n",
        "\n",
        "tree = DecisionTreeRegressor(max_depth=10).fit(tree_X_train,tree_Y_train)\n",
        "\n",
        "tree_pred = tree.predict(tree_X_test)\n",
        "\n",
        "tree_scores = cross_validate(tree,tree_Y_test,tree_pred,scoring = ['r2'],cv=3)\n",
        "\n",
        "print(tree_scores['test_r2'])\n",
        "print"
      ],
      "execution_count": 104,
      "outputs": [
        {
          "output_type": "stream",
          "text": [
            "[0.99944643 0.99959807 0.99244892]\n"
          ],
          "name": "stdout"
        },
        {
          "output_type": "execute_result",
          "data": {
            "text/plain": [
              "<function print>"
            ]
          },
          "metadata": {
            "tags": []
          },
          "execution_count": 104
        }
      ]
    },
    {
      "cell_type": "code",
      "metadata": {
        "colab": {
          "base_uri": "https://localhost:8080/"
        },
        "id": "c4VQhGl7TEOB",
        "outputId": "8e0789b2-9847-46db-9594-f8e80d7394f8"
      },
      "source": [
        "print('RMSE:',np.sqrt(round(mean_squared_error(tree_Y_test,tree_pred),3)))"
      ],
      "execution_count": 100,
      "outputs": [
        {
          "output_type": "stream",
          "text": [
            "RMSE: 1.840108692441835\n"
          ],
          "name": "stdout"
        }
      ]
    },
    {
      "cell_type": "markdown",
      "metadata": {
        "id": "v3o-AOocb4sm"
      },
      "source": [
        "**Regression Plot of Actual Salaries against Predicted Salaries**"
      ]
    },
    {
      "cell_type": "code",
      "metadata": {
        "colab": {
          "base_uri": "https://localhost:8080/",
          "height": 421
        },
        "id": "PuhpTnlbSRiI",
        "outputId": "72baf51a-2f5d-4e9e-f971-7b3f95a6dd84"
      },
      "source": [
        "fig,ax = plt.subplots(figsize=(8,6))\n",
        "plt.scatter(tree_Y_test,tree_pred,color='blue')\n",
        "plt.plot([tree_Y_test.min(),tree_Y_test.max()],[tree_Y_test.min(),tree_Y_test.max()],'--r')\n",
        "plt.xlabel('Actual Salaries')\n",
        "plt.ylabel('Predicted Salaries')\n",
        "plt.title('Actual Salaries vs Predicted Salaries')"
      ],
      "execution_count": 97,
      "outputs": [
        {
          "output_type": "execute_result",
          "data": {
            "text/plain": [
              "Text(0.5, 1.0, 'Actual Salaries vs Predicted Salaries')"
            ]
          },
          "metadata": {
            "tags": []
          },
          "execution_count": 97
        },
        {
          "output_type": "display_data",
          "data": {
            "image/png": "[encoded data removed]",
            "text/plain": [
              "<Figure size 576x432 with 1 Axes>"
            ]
          },
          "metadata": {
            "tags": [],
            "needs_background": "light"
          }
        }
      ]
    },
    {
      "cell_type": "markdown",
      "metadata": {
        "id": "iejEODuqYYCg"
      },
      "source": [
        "**From the visualisations and error values, we can make the following observations on the Regression Tree model**\n",
        "\n",
        "1.   The Regression Tree model has a higher root mean square error value than that of the Linear Regression model (RMSE = 1.84).\n",
        "2.   The r2 scores of the decision tree model are slightly lower than those of the linear regression model, despite the linear plot observing a near perfect fit between the actual salaries and the predicted salaries. \n",
        "3. On analysing the plots of the models, we can conclude they display comparably accurate predictions of customers' salaries.\n",
        "\n",
        "Therefore, we can conclude the two models can be used by ANZ to predict and segment the salaries of its customers, due to the inclusion of new attributes such as the geographical attributes of customers, the number of times each customer received his/her salary during the time period, and so on\n",
        "\n"
      ]
    }
  ]
}